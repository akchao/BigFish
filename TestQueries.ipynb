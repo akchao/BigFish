{
 "cells": [
  {
   "cell_type": "markdown",
   "metadata": {
    "collapsed": true
   },
   "source": [
    "# Test Queries on SQLite (locally)\n",
    "Purpose of this notebook is to test out our queries and make sure they work. \n",
    "<br>\n",
    "Jump to: [Q1](#Q1) | [Q2](#Q2) | [Q3](#Q3) | [Q4](#Q4) | [Q5](#Q5) | [Q6](#Q6) | [Q7](#Q7) | [Q8](#Q8) \n",
    "\n",
    "For Reference:\n",
    "<ol> \n",
    "<li> Show the patents owned by a child company (aka. acquired) or a parent company.  E.g. choose a child or parent from a dropdown menu. </li>\n",
    "<li> What categories* do these companies typically file patents in? </li>\n",
    "<li> How has a particular company's patent filing categories* changed over time?  </li>\n",
    "<li> How many of the acquired companies are located near the parent company (e.g. less than 200 mi radius) or show a map overlaying child and parent company’s locations.  </li>\n",
    "<li> Show a pie chart for showing what percentage of parents’ and children’s patents fall in each category (CPC subgroup title). </li>\n",
    "<li> In which year did the most acquisitions happen?  Which company makes acquisitions the fastest? </li>\n",
    "<li> Which patents do these companies consistently renew?  Which classes do these belong to?  </li>\n",
    "<li> What are all the patents that fall in a layman category (or technology) which the parent company owns (e.g. combining CPC subgroups into “AI”, “machine learning”)? </li>\n",
    "</ol>\n"
   ]
  },
  {
   "cell_type": "code",
   "execution_count": 5,
   "metadata": {},
   "outputs": [],
   "source": [
    "import sqlite3\n",
    "import pandas as pd"
   ]
  },
  {
   "cell_type": "code",
   "execution_count": 3,
   "metadata": {
    "collapsed": true
   },
   "outputs": [],
   "source": [
    "#define a connection string to the database\n",
    "engine = sqlite3.connect(\"bigfish.db\")"
   ]
  },
  {
   "cell_type": "code",
   "execution_count": 1,
   "metadata": {},
   "outputs": [],
   "source": []
  },
  {
   "cell_type": "markdown",
   "metadata": {},
   "source": [
    "# Q1\n",
    "Show the patents owned by a child company (aka. acquired) or a parent company.  E.g. choose a child or parent from a dropdown menu."
   ]
  },
  {
   "cell_type": "code",
   "execution_count": null,
   "metadata": {},
   "outputs": [],
   "source": []
  },
  {
   "cell_type": "markdown",
   "metadata": {
    "collapsed": true
   },
   "source": [
    "# Q2\n",
    "\n",
    "What categories* do these companies typically file patents in?"
   ]
  },
  {
   "cell_type": "code",
   "execution_count": null,
   "metadata": {},
   "outputs": [],
   "source": []
  },
  {
   "cell_type": "markdown",
   "metadata": {},
   "source": [
    "# Q3\n",
    "\n",
    "How has a particular company's patent filing categories* changed over time?"
   ]
  },
  {
   "cell_type": "code",
   "execution_count": null,
   "metadata": {},
   "outputs": [],
   "source": []
  },
  {
   "cell_type": "markdown",
   "metadata": {},
   "source": [
    "# Q4\n",
    "\n",
    "How many of the acquired companies are located near the parent company (e.g. less than 200 mi radius) or show a map overlaying child and parent company’s locations."
   ]
  },
  {
   "cell_type": "code",
   "execution_count": null,
   "metadata": {},
   "outputs": [],
   "source": [
    "# pd.read_sql(\"select * from acquisitions\", con=engine)"
   ]
  },
  {
   "cell_type": "markdown",
   "metadata": {},
   "source": [
    "# Q5\n",
    "\n",
    "Show a pie chart for showing what percentage of parents’ and children’s patents fall in each category (CPC subgroup title)."
   ]
  },
  {
   "cell_type": "code",
   "execution_count": null,
   "metadata": {},
   "outputs": [],
   "source": []
  },
  {
   "cell_type": "markdown",
   "metadata": {},
   "source": [
    "# Q6\n",
    "\n",
    "In which year did the most acquisitions happen?  Which company makes acquisitions the fastest? "
   ]
  },
  {
   "cell_type": "code",
   "execution_count": null,
   "metadata": {},
   "outputs": [],
   "source": []
  },
  {
   "cell_type": "markdown",
   "metadata": {},
   "source": [
    "# Q7\n",
    "\n",
    "Which patents do these companies consistently renew?  Which classes do these belong to?"
   ]
  },
  {
   "cell_type": "code",
   "execution_count": null,
   "metadata": {},
   "outputs": [],
   "source": []
  },
  {
   "cell_type": "markdown",
   "metadata": {},
   "source": [
    "# Q8\n",
    "\n",
    "What are all the patents that fall in a layman category (or technology) which the parent company owns (e.g. combining CPC subgroups into “AI”, “machine learning”)?"
   ]
  },
  {
   "cell_type": "code",
   "execution_count": null,
   "metadata": {},
   "outputs": [],
   "source": []
  }
 ],
 "metadata": {
  "kernelspec": {
   "display_name": "Python 3",
   "language": "python",
   "name": "python3"
  },
  "language_info": {
   "codemirror_mode": {
    "name": "ipython",
    "version": 3
   },
   "file_extension": ".py",
   "mimetype": "text/x-python",
   "name": "python",
   "nbconvert_exporter": "python",
   "pygments_lexer": "ipython3",
   "version": "3.6.5"
  }
 },
 "nbformat": 4,
 "nbformat_minor": 2
}
