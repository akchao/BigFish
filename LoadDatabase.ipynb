{
 "cells": [
  {
   "cell_type": "markdown",
   "metadata": {},
   "source": [
    "# Loading Database\n",
    "This notebook will load data into a database stored locally using SQLite (https://docs.python.org/2/library/sqlite3.html)."
   ]
  },
  {
   "cell_type": "markdown",
   "metadata": {},
   "source": [
    "Navigate to:  [acquisitions](#acquisitions)\n",
    " | [application](#application)\n",
    " | [assignee](#assignee) \n",
    " | [cpc_current](#cpc_current)\n",
    " | [group](#group)\n",
    " | [subgroup](#subgroup)\n",
    " | [subsection](#subsection)\n",
    " | [location](#location)\n",
    " | [location_assignee](#location_assignee)\n",
    " | [us_term_of_grant](#us_term_of_grant)"
   ]
  },
  {
   "cell_type": "markdown",
   "metadata": {},
   "source": [
    "## Resources"
   ]
  },
  {
   "cell_type": "code",
   "execution_count": 1,
   "metadata": {},
   "outputs": [],
   "source": [
    "import numpy as np\n",
    "import pandas as pd\n",
    "import matplotlib.pyplot as plt\n",
    "\n",
    "import sqlite3                  # SQL Lite -- local database\n",
    "# import cx_Oracle as cx        # <-- wasn't sure if we'll be using this"
   ]
  },
  {
   "cell_type": "code",
   "execution_count": 2,
   "metadata": {},
   "outputs": [],
   "source": [
    "# define a connection string to the database\n",
    "engine = sqlite3.connect(\"bigfish.db\")      "
   ]
  },
  {
   "cell_type": "code",
   "execution_count": 11,
   "metadata": {},
   "outputs": [],
   "source": [
    "acquisitions = \"acquisitions_clean.csv\"\n",
    "application = \"application_clean.csv\"\n",
    "assignee = \"assignee_clean.csv\"\n",
    "cpc_current = \"cpc_current_clean.csv\"\n",
    "group = \"group_clean.tsv\"\n",
    "subgroup = \"subgroup_clean.tsv\"\n",
    "subsection = \"subsection_clean.tsv\"\n",
    "location = \"location_clean.tsv\" \n",
    "location_assignee = \"location_assignee_clean.csv\"\n",
    "us_term_of_grant = \"us_term_of_grant_clean.csv\"\n",
    "\n",
    "files = [\"acquisitions_clean.csv\", \n",
    "         \"assignee_clean.csv\", \n",
    "         \"cpc_current_clean.csv\",\n",
    "         \"group_clean.tsv\", \n",
    "         \"subgroup_clean.tsv\",\n",
    "         \"subsection_clean.tsv\",\n",
    "         \"location_clean.tsv\",\n",
    "         \"location_assignee_clean.csv\",\n",
    "         \"us_term_of_grant_clean.csv\"]"
   ]
  },
  {
   "cell_type": "markdown",
   "metadata": {},
   "source": [
    "## Functions"
   ]
  },
  {
   "cell_type": "code",
   "execution_count": 4,
   "metadata": {},
   "outputs": [],
   "source": [
    "def read(url):\n",
    "    if (url[-3]==\"c\"):\n",
    "        data = pd.read_csv(url, header=0)\n",
    "    else:\n",
    "        data = pd.read_csv(url, sep=\"\\t\", header=0)\n",
    "    df = pd.DataFrame(data)\n",
    "    return df"
   ]
  },
  {
   "cell_type": "markdown",
   "metadata": {},
   "source": [
    "***\n",
    "# Tables"
   ]
  },
  {
   "cell_type": "markdown",
   "metadata": {},
   "source": [
    "## acquisitions\n",
    "[resources](#Resources)\n",
    " | [functions](#Functions)\n",
    " | [acquisitions](#acquisitions)\n",
    " | [application](#application)\n",
    " | [assignee](#assignee) \n",
    " | [cpc_current](#cpc_current)\n",
    " | [group](#group)\n",
    " | [subgroup](#subgroup)\n",
    " | [subsection](#subsection)\n",
    " | [location](#location)\n",
    " | [location_assignee](#location_assignee)\n",
    " | [us_term_of_grant](#us_term_of_grant)"
   ]
  },
  {
   "cell_type": "code",
   "execution_count": 10,
   "metadata": {},
   "outputs": [
    {
     "data": {
      "text/html": [
       "<div>\n",
       "<style scoped>\n",
       "    .dataframe tbody tr th:only-of-type {\n",
       "        vertical-align: middle;\n",
       "    }\n",
       "\n",
       "    .dataframe tbody tr th {\n",
       "        vertical-align: top;\n",
       "    }\n",
       "\n",
       "    .dataframe thead th {\n",
       "        text-align: right;\n",
       "    }\n",
       "</style>\n",
       "<table border=\"1\" class=\"dataframe\">\n",
       "  <thead>\n",
       "    <tr style=\"text-align: right;\">\n",
       "      <th></th>\n",
       "      <th>AcquisitionYear</th>\n",
       "      <th>ChildCompany</th>\n",
       "      <th>ParentCompany</th>\n",
       "    </tr>\n",
       "  </thead>\n",
       "  <tbody>\n",
       "    <tr>\n",
       "      <th>0</th>\n",
       "      <td>2015</td>\n",
       "      <td>bebop</td>\n",
       "      <td>Google</td>\n",
       "    </tr>\n",
       "    <tr>\n",
       "      <th>1</th>\n",
       "      <td>2015</td>\n",
       "      <td>Fly Labs</td>\n",
       "      <td>Google</td>\n",
       "    </tr>\n",
       "    <tr>\n",
       "      <th>2</th>\n",
       "      <td>2015</td>\n",
       "      <td>Clearleap</td>\n",
       "      <td>IBM</td>\n",
       "    </tr>\n",
       "    <tr>\n",
       "      <th>3</th>\n",
       "      <td>2015</td>\n",
       "      <td>Metanautix</td>\n",
       "      <td>Microsoft</td>\n",
       "    </tr>\n",
       "    <tr>\n",
       "      <th>4</th>\n",
       "      <td>2015</td>\n",
       "      <td>Talko, Inc.</td>\n",
       "      <td>Microsoft</td>\n",
       "    </tr>\n",
       "  </tbody>\n",
       "</table>\n",
       "</div>"
      ],
      "text/plain": [
       "   AcquisitionYear ChildCompany ParentCompany\n",
       "0             2015        bebop        Google\n",
       "1             2015     Fly Labs        Google\n",
       "2             2015    Clearleap           IBM\n",
       "3             2015   Metanautix     Microsoft\n",
       "4             2015  Talko, Inc.     Microsoft"
      ]
     },
     "execution_count": 10,
     "metadata": {},
     "output_type": "execute_result"
    }
   ],
   "source": [
    "dfAcquisitions = read(acquisitions)\n",
    "dfAcquisitions.head()"
   ]
  },
  {
   "cell_type": "code",
   "execution_count": 6,
   "metadata": {},
   "outputs": [],
   "source": [
    "# push the dataframe to the database\n",
    "dfAcquisitions.to_sql(\"acquisitions\", if_exists = \"replace\", con = engine)\n",
    "\n",
    "# not sure if we need this if we have above:\n",
    "# for row in dfAcquisitions:\n",
    "#     sqlquery=\"INSERT INTO acquisitions VALUES (%d,'%s','%s')\" %(row['AcquisitionYear'],row['ChildCompany'],row['ParentCompany'])\n"
   ]
  },
  {
   "cell_type": "markdown",
   "metadata": {},
   "source": [
    "## application\n",
    "[resources](#Resources)\n",
    " | [functions](#Functions)\n",
    " | [acquisitions](#acquisitions)\n",
    " | [application](#application)\n",
    " | [assignee](#assignee) \n",
    " | [cpc_current](#cpc_current)\n",
    " | [group](#group)\n",
    " | [subgroup](#subgroup)\n",
    " | [subsection](#subsection)\n",
    " | [location](#location)\n",
    " | [location_assignee](#location_assignee)\n",
    " | [us_term_of_grant](#us_term_of_grant)"
   ]
  },
  {
   "cell_type": "code",
   "execution_count": 12,
   "metadata": {},
   "outputs": [
    {
     "data": {
      "text/html": [
       "<div>\n",
       "<style scoped>\n",
       "    .dataframe tbody tr th:only-of-type {\n",
       "        vertical-align: middle;\n",
       "    }\n",
       "\n",
       "    .dataframe tbody tr th {\n",
       "        vertical-align: top;\n",
       "    }\n",
       "\n",
       "    .dataframe thead th {\n",
       "        text-align: right;\n",
       "    }\n",
       "</style>\n",
       "<table border=\"1\" class=\"dataframe\">\n",
       "  <thead>\n",
       "    <tr style=\"text-align: right;\">\n",
       "      <th></th>\n",
       "      <th>patent_id</th>\n",
       "      <th>country</th>\n",
       "      <th>date</th>\n",
       "    </tr>\n",
       "  </thead>\n",
       "  <tbody>\n",
       "    <tr>\n",
       "      <th>0</th>\n",
       "      <td>D345393</td>\n",
       "      <td>US</td>\n",
       "      <td>1992-12-21</td>\n",
       "    </tr>\n",
       "    <tr>\n",
       "      <th>1</th>\n",
       "      <td>5164715</td>\n",
       "      <td>US</td>\n",
       "      <td>1990-04-10</td>\n",
       "    </tr>\n",
       "    <tr>\n",
       "      <th>2</th>\n",
       "      <td>5177974</td>\n",
       "      <td>US</td>\n",
       "      <td>1988-06-23</td>\n",
       "    </tr>\n",
       "    <tr>\n",
       "      <th>3</th>\n",
       "      <td>5379515</td>\n",
       "      <td>US</td>\n",
       "      <td>1994-02-16</td>\n",
       "    </tr>\n",
       "    <tr>\n",
       "      <th>4</th>\n",
       "      <td>5264790</td>\n",
       "      <td>US</td>\n",
       "      <td>1991-07-01</td>\n",
       "    </tr>\n",
       "  </tbody>\n",
       "</table>\n",
       "</div>"
      ],
      "text/plain": [
       "  patent_id country        date\n",
       "0   D345393      US  1992-12-21\n",
       "1   5164715      US  1990-04-10\n",
       "2   5177974      US  1988-06-23\n",
       "3   5379515      US  1994-02-16\n",
       "4   5264790      US  1991-07-01"
      ]
     },
     "execution_count": 12,
     "metadata": {},
     "output_type": "execute_result"
    }
   ],
   "source": [
    "dfApplication = read(application)\n",
    "dfApplication.head()"
   ]
  },
  {
   "cell_type": "code",
   "execution_count": 13,
   "metadata": {},
   "outputs": [],
   "source": [
    "# push the dataframe to the database\n",
    "dfApplication.to_sql(\"application\", if_exists = \"replace\", con = engine)\n",
    "\n",
    "# not sure if we need this if we have above:\n",
    "# for row in dfApplication:\n",
    "#     sqlquery=\"INSERT INTO application VALUES ('%s','%s','%s')\" %(row['patent_id'],row['country'],row['date'])"
   ]
  },
  {
   "cell_type": "markdown",
   "metadata": {},
   "source": [
    "## assignee\n",
    "[resources](#Resources)\n",
    " | [functions](#Functions)\n",
    " | [acquisitions](#acquisitions)\n",
    " | [application](#application)\n",
    " | [assignee](#assignee) \n",
    " | [cpc_current](#cpc_current)\n",
    " | [group](#group)\n",
    " | [subgroup](#subgroup)\n",
    " | [subsection](#subsection)\n",
    " | [location](#location)\n",
    " | [location_assignee](#location_assignee)\n",
    " | [us_term_of_grant](#us_term_of_grant)"
   ]
  },
  {
   "cell_type": "code",
   "execution_count": 14,
   "metadata": {
    "scrolled": false
   },
   "outputs": [
    {
     "data": {
      "text/html": [
       "<div>\n",
       "<style scoped>\n",
       "    .dataframe tbody tr th:only-of-type {\n",
       "        vertical-align: middle;\n",
       "    }\n",
       "\n",
       "    .dataframe tbody tr th {\n",
       "        vertical-align: top;\n",
       "    }\n",
       "\n",
       "    .dataframe thead th {\n",
       "        text-align: right;\n",
       "    }\n",
       "</style>\n",
       "<table border=\"1\" class=\"dataframe\">\n",
       "  <thead>\n",
       "    <tr style=\"text-align: right;\">\n",
       "      <th></th>\n",
       "      <th>Unnamed: 0</th>\n",
       "      <th>patent_id</th>\n",
       "      <th>assignee_id</th>\n",
       "      <th>organization</th>\n",
       "    </tr>\n",
       "  </thead>\n",
       "  <tbody>\n",
       "    <tr>\n",
       "      <th>0</th>\n",
       "      <td>0</td>\n",
       "      <td>5856666</td>\n",
       "      <td>eaa92f175be7bfb71011f17eafb1e71f</td>\n",
       "      <td>U.S. Philips Corporation</td>\n",
       "    </tr>\n",
       "    <tr>\n",
       "      <th>1</th>\n",
       "      <td>1</td>\n",
       "      <td>5204210</td>\n",
       "      <td>e572ad43a89039b0d72acc4ce970a33f</td>\n",
       "      <td>Xerox Corporation</td>\n",
       "    </tr>\n",
       "    <tr>\n",
       "      <th>2</th>\n",
       "      <td>2</td>\n",
       "      <td>5302149</td>\n",
       "      <td>8ce825a978eebf26ad2c13de6e370bb3</td>\n",
       "      <td>Commonwealth Scientific &amp; Industrial Research ...</td>\n",
       "    </tr>\n",
       "    <tr>\n",
       "      <th>3</th>\n",
       "      <td>3</td>\n",
       "      <td>9104354</td>\n",
       "      <td>6c00cb129070696ef109f6264da00318</td>\n",
       "      <td>Canon Kabushiki Kaisha</td>\n",
       "    </tr>\n",
       "    <tr>\n",
       "      <th>4</th>\n",
       "      <td>4</td>\n",
       "      <td>6584517</td>\n",
       "      <td>dabf354c29a6ebba31f54b9ed042241d</td>\n",
       "      <td>Cypress Semiconductor Corp.</td>\n",
       "    </tr>\n",
       "  </tbody>\n",
       "</table>\n",
       "</div>"
      ],
      "text/plain": [
       "   Unnamed: 0 patent_id                       assignee_id  \\\n",
       "0           0   5856666  eaa92f175be7bfb71011f17eafb1e71f   \n",
       "1           1   5204210  e572ad43a89039b0d72acc4ce970a33f   \n",
       "2           2   5302149  8ce825a978eebf26ad2c13de6e370bb3   \n",
       "3           3   9104354  6c00cb129070696ef109f6264da00318   \n",
       "4           4   6584517  dabf354c29a6ebba31f54b9ed042241d   \n",
       "\n",
       "                                        organization  \n",
       "0                           U.S. Philips Corporation  \n",
       "1                                  Xerox Corporation  \n",
       "2  Commonwealth Scientific & Industrial Research ...  \n",
       "3                             Canon Kabushiki Kaisha  \n",
       "4                        Cypress Semiconductor Corp.  "
      ]
     },
     "execution_count": 14,
     "metadata": {},
     "output_type": "execute_result"
    }
   ],
   "source": [
    "dfAssignee = read(assignee)\n",
    "dfAssignee.head()"
   ]
  },
  {
   "cell_type": "code",
   "execution_count": 15,
   "metadata": {},
   "outputs": [
    {
     "name": "stderr",
     "output_type": "stream",
     "text": [
      "/anaconda3/lib/python3.6/site-packages/pandas/core/generic.py:2127: UserWarning: The spaces in these column names will not be changed. In pandas versions < 0.14, spaces were converted to underscores.\n",
      "  dtype=dtype)\n"
     ]
    }
   ],
   "source": [
    "# push the dataframe to the database\n",
    "dfAssignee.to_sql(\"assignee\", if_exists = \"replace\", con = engine)\n",
    "\n",
    "# not sure if we need this if we have above:\n",
    "# for row in dfAssignee:\n",
    "#     sqlquery=\"INSERT INTO assignee VALUES ('%s','%s','%s')\" %(row['patent_id'],row['assignee_id'],row['organization'])\n"
   ]
  },
  {
   "cell_type": "markdown",
   "metadata": {},
   "source": [
    "## cpc_current\n",
    "[resources](#Resources)\n",
    " | [functions](#Functions)\n",
    " | [acquisitions](#acquisitions)\n",
    " | [application](#application)\n",
    " | [assignee](#assignee) \n",
    " | [cpc_current](#cpc_current)\n",
    " | [group](#group)\n",
    " | [subgroup](#subgroup)\n",
    " | [subsection](#subsection)\n",
    " | [location](#location)\n",
    " | [location_assignee](#location_assignee)\n",
    " | [us_term_of_grant](#us_term_of_grant)"
   ]
  },
  {
   "cell_type": "code",
   "execution_count": 16,
   "metadata": {},
   "outputs": [
    {
     "data": {
      "text/html": [
       "<div>\n",
       "<style scoped>\n",
       "    .dataframe tbody tr th:only-of-type {\n",
       "        vertical-align: middle;\n",
       "    }\n",
       "\n",
       "    .dataframe tbody tr th {\n",
       "        vertical-align: top;\n",
       "    }\n",
       "\n",
       "    .dataframe thead th {\n",
       "        text-align: right;\n",
       "    }\n",
       "</style>\n",
       "<table border=\"1\" class=\"dataframe\">\n",
       "  <thead>\n",
       "    <tr style=\"text-align: right;\">\n",
       "      <th></th>\n",
       "      <th>patent_id</th>\n",
       "      <th>section_id</th>\n",
       "      <th>subsection_id</th>\n",
       "      <th>group_id</th>\n",
       "      <th>subgroup_id</th>\n",
       "    </tr>\n",
       "  </thead>\n",
       "  <tbody>\n",
       "    <tr>\n",
       "      <th>0</th>\n",
       "      <td>3930272</td>\n",
       "      <td>A</td>\n",
       "      <td>A47</td>\n",
       "      <td>A47D</td>\n",
       "      <td>A47D7/02</td>\n",
       "    </tr>\n",
       "    <tr>\n",
       "      <th>1</th>\n",
       "      <td>3930272</td>\n",
       "      <td>Y</td>\n",
       "      <td>Y10</td>\n",
       "      <td>Y10T</td>\n",
       "      <td>Y10T403/32451</td>\n",
       "    </tr>\n",
       "    <tr>\n",
       "      <th>2</th>\n",
       "      <td>3930273</td>\n",
       "      <td>A</td>\n",
       "      <td>A61</td>\n",
       "      <td>A61G</td>\n",
       "      <td>A61G7/0507</td>\n",
       "    </tr>\n",
       "    <tr>\n",
       "      <th>3</th>\n",
       "      <td>3930273</td>\n",
       "      <td>A</td>\n",
       "      <td>A61</td>\n",
       "      <td>A61G</td>\n",
       "      <td>A61G7/0509</td>\n",
       "    </tr>\n",
       "    <tr>\n",
       "      <th>4</th>\n",
       "      <td>3930274</td>\n",
       "      <td>B</td>\n",
       "      <td>B63</td>\n",
       "      <td>B63B</td>\n",
       "      <td>B63B7/085</td>\n",
       "    </tr>\n",
       "  </tbody>\n",
       "</table>\n",
       "</div>"
      ],
      "text/plain": [
       "   patent_id section_id subsection_id group_id    subgroup_id\n",
       "0    3930272          A           A47     A47D       A47D7/02\n",
       "1    3930272          Y           Y10     Y10T  Y10T403/32451\n",
       "2    3930273          A           A61     A61G     A61G7/0507\n",
       "3    3930273          A           A61     A61G     A61G7/0509\n",
       "4    3930274          B           B63     B63B      B63B7/085"
      ]
     },
     "execution_count": 16,
     "metadata": {},
     "output_type": "execute_result"
    }
   ],
   "source": [
    "dfCPC_current = read(cpc_current)\n",
    "dfCPC_current.head()"
   ]
  },
  {
   "cell_type": "code",
   "execution_count": 17,
   "metadata": {},
   "outputs": [],
   "source": [
    "# push the dataframe to the database\n",
    "dfCPC_current.to_sql(\"cpc_current\", if_exists = \"replace\", con = engine)\n",
    "\n",
    "# not sure if we need this if we have above:\n",
    "# for row in dfCPC_current:\n",
    "#     sqlquery=\"INSERT INTO cpc_current VALUES ('%s','%s','%s','%s','%s')\" %(row['patent_id'],row['section_id'],row['subsection_id'],row['group_id'],row['subgroup_id'])\n"
   ]
  },
  {
   "cell_type": "markdown",
   "metadata": {},
   "source": [
    "## group\n",
    "[resources](#Resources)\n",
    " | [functions](#Functions)\n",
    " | [acquisitions](#acquisitions)\n",
    " | [application](#application)\n",
    " | [assignee](#assignee) \n",
    " | [cpc_current](#cpc_current)\n",
    " | [group](#group)\n",
    " | [subgroup](#subgroup)\n",
    " | [subsection](#subsection)\n",
    " | [location](#location)\n",
    " | [location_assignee](#location_assignee)\n",
    " | [us_term_of_grant](#us_term_of_grant)"
   ]
  },
  {
   "cell_type": "code",
   "execution_count": 18,
   "metadata": {},
   "outputs": [
    {
     "data": {
      "text/html": [
       "<div>\n",
       "<style scoped>\n",
       "    .dataframe tbody tr th:only-of-type {\n",
       "        vertical-align: middle;\n",
       "    }\n",
       "\n",
       "    .dataframe tbody tr th {\n",
       "        vertical-align: top;\n",
       "    }\n",
       "\n",
       "    .dataframe thead th {\n",
       "        text-align: right;\n",
       "    }\n",
       "</style>\n",
       "<table border=\"1\" class=\"dataframe\">\n",
       "  <thead>\n",
       "    <tr style=\"text-align: right;\">\n",
       "      <th></th>\n",
       "      <th>id</th>\n",
       "      <th>title</th>\n",
       "    </tr>\n",
       "  </thead>\n",
       "  <tbody>\n",
       "    <tr>\n",
       "      <th>0</th>\n",
       "      <td>A01B</td>\n",
       "      <td>SOIL WORKING IN AGRICULTURE OR FORESTRY; PARTS...</td>\n",
       "    </tr>\n",
       "    <tr>\n",
       "      <th>1</th>\n",
       "      <td>A01C</td>\n",
       "      <td>PLANTING; SOWING; FERTILISING</td>\n",
       "    </tr>\n",
       "    <tr>\n",
       "      <th>2</th>\n",
       "      <td>A01D</td>\n",
       "      <td>HARVESTING; MOWING</td>\n",
       "    </tr>\n",
       "    <tr>\n",
       "      <th>3</th>\n",
       "      <td>A01F</td>\n",
       "      <td>PROCESSING OF HARVESTED PRODUCE; HAY OR STRAW ...</td>\n",
       "    </tr>\n",
       "    <tr>\n",
       "      <th>4</th>\n",
       "      <td>A01G</td>\n",
       "      <td>HORTICULTURE; CULTIVATION OF VEGETABLES, FLOWE...</td>\n",
       "    </tr>\n",
       "  </tbody>\n",
       "</table>\n",
       "</div>"
      ],
      "text/plain": [
       "     id                                              title\n",
       "0  A01B  SOIL WORKING IN AGRICULTURE OR FORESTRY; PARTS...\n",
       "1  A01C                     PLANTING; SOWING; FERTILISING \n",
       "2  A01D                                HARVESTING; MOWING \n",
       "3  A01F  PROCESSING OF HARVESTED PRODUCE; HAY OR STRAW ...\n",
       "4  A01G  HORTICULTURE; CULTIVATION OF VEGETABLES, FLOWE..."
      ]
     },
     "execution_count": 18,
     "metadata": {},
     "output_type": "execute_result"
    }
   ],
   "source": [
    "dfGroup = read(group)\n",
    "dfGroup.head()"
   ]
  },
  {
   "cell_type": "code",
   "execution_count": 19,
   "metadata": {},
   "outputs": [],
   "source": [
    "# push the dataframe to the database\n",
    "dfGroup.to_sql(\"group\", if_exists = \"replace\", con = engine)\n",
    "\n",
    "# not sure if we need this if we have above:\n",
    "# for row in dfGroup:\n",
    "#     sqlquery=\"INSERT INTO group VALUES ('%s','%s')\" %(row['id'],row['title'])\n",
    "\n"
   ]
  },
  {
   "cell_type": "markdown",
   "metadata": {},
   "source": [
    "## subgroup\n",
    "[resources](#Resources)\n",
    " | [functions](#Functions)\n",
    " | [acquisitions](#acquisitions)\n",
    " | [application](#application)\n",
    " | [assignee](#assignee) \n",
    " | [cpc_current](#cpc_current)\n",
    " | [group](#group)\n",
    " | [subgroup](#subgroup)\n",
    " | [subsection](#subsection)\n",
    " | [location](#location)\n",
    " | [location_assignee](#location_assignee)\n",
    " | [us_term_of_grant](#us_term_of_grant)"
   ]
  },
  {
   "cell_type": "code",
   "execution_count": 22,
   "metadata": {},
   "outputs": [
    {
     "data": {
      "text/html": [
       "<div>\n",
       "<style scoped>\n",
       "    .dataframe tbody tr th:only-of-type {\n",
       "        vertical-align: middle;\n",
       "    }\n",
       "\n",
       "    .dataframe tbody tr th {\n",
       "        vertical-align: top;\n",
       "    }\n",
       "\n",
       "    .dataframe thead th {\n",
       "        text-align: right;\n",
       "    }\n",
       "</style>\n",
       "<table border=\"1\" class=\"dataframe\">\n",
       "  <thead>\n",
       "    <tr style=\"text-align: right;\">\n",
       "      <th></th>\n",
       "      <th>id</th>\n",
       "      <th>title</th>\n",
       "    </tr>\n",
       "  </thead>\n",
       "  <tbody>\n",
       "    <tr>\n",
       "      <th>0</th>\n",
       "      <td>A01B1/00</td>\n",
       "      <td>Hand tools</td>\n",
       "    </tr>\n",
       "    <tr>\n",
       "      <th>1</th>\n",
       "      <td>A01B1/02</td>\n",
       "      <td>Hand tools -Spades; Shovels</td>\n",
       "    </tr>\n",
       "    <tr>\n",
       "      <th>2</th>\n",
       "      <td>A01B1/022</td>\n",
       "      <td>Hand tools -Spades; Shovels -Collapsible; exte...</td>\n",
       "    </tr>\n",
       "    <tr>\n",
       "      <th>3</th>\n",
       "      <td>A01B1/024</td>\n",
       "      <td>Hand tools -Spades; Shovels -Foot protectors a...</td>\n",
       "    </tr>\n",
       "    <tr>\n",
       "      <th>4</th>\n",
       "      <td>A01B1/026</td>\n",
       "      <td>Hand tools -Spades; Shovels -with auxiliary ha...</td>\n",
       "    </tr>\n",
       "  </tbody>\n",
       "</table>\n",
       "</div>"
      ],
      "text/plain": [
       "          id                                              title\n",
       "0   A01B1/00                                         Hand tools\n",
       "1   A01B1/02                        Hand tools -Spades; Shovels\n",
       "2  A01B1/022  Hand tools -Spades; Shovels -Collapsible; exte...\n",
       "3  A01B1/024  Hand tools -Spades; Shovels -Foot protectors a...\n",
       "4  A01B1/026  Hand tools -Spades; Shovels -with auxiliary ha..."
      ]
     },
     "execution_count": 22,
     "metadata": {},
     "output_type": "execute_result"
    }
   ],
   "source": [
    "dfSubgroup = read(subgroup)\n",
    "dfSubgroup.head()"
   ]
  },
  {
   "cell_type": "code",
   "execution_count": 23,
   "metadata": {},
   "outputs": [],
   "source": [
    "# push the dataframe to the database\n",
    "dfSubgroup.to_sql(\"subgroup\", if_exists = \"replace\", con = engine)\n",
    "\n",
    "# not sure if we need this if we have above:\n",
    "# for row in dfSubgroup:\n",
    "#     sqlquery=\"INSERT INTO subgroup VALUES ('%s','%s')\" %(row['id'],row['title'])\n"
   ]
  },
  {
   "cell_type": "markdown",
   "metadata": {},
   "source": [
    "## subsection\n",
    "[resources](#Resources)\n",
    " | [functions](#Functions)\n",
    " | [acquisitions](#acquisitions)\n",
    " | [application](#application)\n",
    " | [assignee](#assignee) \n",
    " | [cpc_current](#cpc_current)\n",
    " | [group](#group)\n",
    " | [subgroup](#subgroup)\n",
    " | [subsection](#subsection)\n",
    " | [location](#location)\n",
    " | [location_assignee](#location_assignee)\n",
    " | [us_term_of_grant](#us_term_of_grant)"
   ]
  },
  {
   "cell_type": "code",
   "execution_count": 24,
   "metadata": {},
   "outputs": [
    {
     "data": {
      "text/html": [
       "<div>\n",
       "<style scoped>\n",
       "    .dataframe tbody tr th:only-of-type {\n",
       "        vertical-align: middle;\n",
       "    }\n",
       "\n",
       "    .dataframe tbody tr th {\n",
       "        vertical-align: top;\n",
       "    }\n",
       "\n",
       "    .dataframe thead th {\n",
       "        text-align: right;\n",
       "    }\n",
       "</style>\n",
       "<table border=\"1\" class=\"dataframe\">\n",
       "  <thead>\n",
       "    <tr style=\"text-align: right;\">\n",
       "      <th></th>\n",
       "      <th>id</th>\n",
       "      <th>title</th>\n",
       "    </tr>\n",
       "  </thead>\n",
       "  <tbody>\n",
       "    <tr>\n",
       "      <th>0</th>\n",
       "      <td>A01</td>\n",
       "      <td>AGRICULTURE; FORESTRY; ANIMAL HUSBANDRY; HUNTI...</td>\n",
       "    </tr>\n",
       "    <tr>\n",
       "      <th>1</th>\n",
       "      <td>A21</td>\n",
       "      <td>BAKING; EDIBLE DOUGHS</td>\n",
       "    </tr>\n",
       "    <tr>\n",
       "      <th>2</th>\n",
       "      <td>A22</td>\n",
       "      <td>BUTCHERING; MEAT TREATMENT; PROCESSING POULTRY...</td>\n",
       "    </tr>\n",
       "    <tr>\n",
       "      <th>3</th>\n",
       "      <td>A23</td>\n",
       "      <td>FOODS OR FOODSTUFFS; THEIR TREATMENT, NOT COVE...</td>\n",
       "    </tr>\n",
       "    <tr>\n",
       "      <th>4</th>\n",
       "      <td>A24</td>\n",
       "      <td>TOBACCO; CIGARS; CIGARETTES; SMOKERS' REQUISITES</td>\n",
       "    </tr>\n",
       "  </tbody>\n",
       "</table>\n",
       "</div>"
      ],
      "text/plain": [
       "    id                                              title\n",
       "0  A01  AGRICULTURE; FORESTRY; ANIMAL HUSBANDRY; HUNTI...\n",
       "1  A21                              BAKING; EDIBLE DOUGHS\n",
       "2  A22  BUTCHERING; MEAT TREATMENT; PROCESSING POULTRY...\n",
       "3  A23  FOODS OR FOODSTUFFS; THEIR TREATMENT, NOT COVE...\n",
       "4  A24   TOBACCO; CIGARS; CIGARETTES; SMOKERS' REQUISITES"
      ]
     },
     "execution_count": 24,
     "metadata": {},
     "output_type": "execute_result"
    }
   ],
   "source": [
    "dfSubsection = read(subsection)\n",
    "dfSubsection.head()"
   ]
  },
  {
   "cell_type": "code",
   "execution_count": 25,
   "metadata": {},
   "outputs": [],
   "source": [
    "# push the dataframe to the database\n",
    "dfSubsection.to_sql(\"subsection\", if_exists = \"replace\", con = engine)\n",
    "\n",
    "# not sure if we need this if we have above:\n",
    "# for row in dfSubsection:\n",
    "#     sqlquery=\"INSERT INTO subsection VALUES ('%s','%s')\" %(row['id'],row['title'])\n",
    "    "
   ]
  },
  {
   "cell_type": "markdown",
   "metadata": {},
   "source": [
    "## location\n",
    "[resources](#Resources)\n",
    " | [functions](#Functions)\n",
    " | [acquisitions](#acquisitions)\n",
    " | [application](#application)\n",
    " | [assignee](#assignee) \n",
    " | [cpc_current](#cpc_current)\n",
    " | [group](#group)\n",
    " | [subgroup](#subgroup)\n",
    " | [subsection](#subsection)\n",
    " | [location](#location)\n",
    " | [location_assignee](#location_assignee)\n",
    " | [us_term_of_grant](#us_term_of_grant)"
   ]
  },
  {
   "cell_type": "code",
   "execution_count": 26,
   "metadata": {},
   "outputs": [
    {
     "data": {
      "text/html": [
       "<div>\n",
       "<style scoped>\n",
       "    .dataframe tbody tr th:only-of-type {\n",
       "        vertical-align: middle;\n",
       "    }\n",
       "\n",
       "    .dataframe tbody tr th {\n",
       "        vertical-align: top;\n",
       "    }\n",
       "\n",
       "    .dataframe thead th {\n",
       "        text-align: right;\n",
       "    }\n",
       "</style>\n",
       "<table border=\"1\" class=\"dataframe\">\n",
       "  <thead>\n",
       "    <tr style=\"text-align: right;\">\n",
       "      <th></th>\n",
       "      <th>id</th>\n",
       "      <th>city</th>\n",
       "      <th>latitude</th>\n",
       "      <th>longitude</th>\n",
       "    </tr>\n",
       "  </thead>\n",
       "  <tbody>\n",
       "    <tr>\n",
       "      <th>0</th>\n",
       "      <td>000yomlxfffl</td>\n",
       "      <td>Spruce Pine</td>\n",
       "      <td>35.9153</td>\n",
       "      <td>-82.0647</td>\n",
       "    </tr>\n",
       "    <tr>\n",
       "      <th>1</th>\n",
       "      <td>000zaps28vbi</td>\n",
       "      <td>Bridge City Westwego</td>\n",
       "      <td>29.9179</td>\n",
       "      <td>-90.1663</td>\n",
       "    </tr>\n",
       "    <tr>\n",
       "      <th>2</th>\n",
       "      <td>002ui5ctlmse</td>\n",
       "      <td>Dahlonega</td>\n",
       "      <td>34.5261</td>\n",
       "      <td>-83.9844</td>\n",
       "    </tr>\n",
       "    <tr>\n",
       "      <th>3</th>\n",
       "      <td>0043o8y61p3z</td>\n",
       "      <td>Rancho Bernardo</td>\n",
       "      <td>33.0186</td>\n",
       "      <td>-117.0600</td>\n",
       "    </tr>\n",
       "    <tr>\n",
       "      <th>4</th>\n",
       "      <td>00a4lw6chrti</td>\n",
       "      <td>Levering</td>\n",
       "      <td>45.6358</td>\n",
       "      <td>-84.7870</td>\n",
       "    </tr>\n",
       "  </tbody>\n",
       "</table>\n",
       "</div>"
      ],
      "text/plain": [
       "             id                  city  latitude  longitude\n",
       "0  000yomlxfffl           Spruce Pine   35.9153   -82.0647\n",
       "1  000zaps28vbi  Bridge City Westwego   29.9179   -90.1663\n",
       "2  002ui5ctlmse             Dahlonega   34.5261   -83.9844\n",
       "3  0043o8y61p3z       Rancho Bernardo   33.0186  -117.0600\n",
       "4  00a4lw6chrti              Levering   45.6358   -84.7870"
      ]
     },
     "execution_count": 26,
     "metadata": {},
     "output_type": "execute_result"
    }
   ],
   "source": [
    "dfLocation = read(location)\n",
    "dfLocation.head()"
   ]
  },
  {
   "cell_type": "code",
   "execution_count": 27,
   "metadata": {},
   "outputs": [],
   "source": [
    "# push the dataframe to the database\n",
    "dfLocation.to_sql(\"location\", if_exists = \"replace\", con = engine)\n",
    "\n",
    "# not sure if we need this if we have above:\n",
    "# for row in dfLocation:\n",
    "#     sqlquery=\"INSERT INTO location VALUES ('%s','%s',%d,%d)\" %(row['id'],row['city'],row['latitude'],row['longitude'])\n",
    "    "
   ]
  },
  {
   "cell_type": "markdown",
   "metadata": {},
   "source": [
    "## location_assignee\n",
    "[resources](#Resources)\n",
    " | [functions](#Functions)\n",
    " | [acquisitions](#acquisitions)\n",
    " | [application](#application)\n",
    " | [assignee](#assignee) \n",
    " | [cpc_current](#cpc_current)\n",
    " | [group](#group)\n",
    " | [subgroup](#subgroup)\n",
    " | [subsection](#subsection)\n",
    " | [location](#location)\n",
    " | [location_assignee](#location_assignee)\n",
    " | [us_term_of_grant](#us_term_of_grant)"
   ]
  },
  {
   "cell_type": "code",
   "execution_count": 28,
   "metadata": {},
   "outputs": [
    {
     "data": {
      "text/html": [
       "<div>\n",
       "<style scoped>\n",
       "    .dataframe tbody tr th:only-of-type {\n",
       "        vertical-align: middle;\n",
       "    }\n",
       "\n",
       "    .dataframe tbody tr th {\n",
       "        vertical-align: top;\n",
       "    }\n",
       "\n",
       "    .dataframe thead th {\n",
       "        text-align: right;\n",
       "    }\n",
       "</style>\n",
       "<table border=\"1\" class=\"dataframe\">\n",
       "  <thead>\n",
       "    <tr style=\"text-align: right;\">\n",
       "      <th></th>\n",
       "      <th>location_id</th>\n",
       "      <th>assignee_id</th>\n",
       "    </tr>\n",
       "  </thead>\n",
       "  <tbody>\n",
       "    <tr>\n",
       "      <th>0</th>\n",
       "      <td>wy09e6twn0s1</td>\n",
       "      <td>eaa92f175be7bfb71011f17eafb1e71f</td>\n",
       "    </tr>\n",
       "    <tr>\n",
       "      <th>1</th>\n",
       "      <td>406gqa22ukdm</td>\n",
       "      <td>e572ad43a89039b0d72acc4ce970a33f</td>\n",
       "    </tr>\n",
       "    <tr>\n",
       "      <th>2</th>\n",
       "      <td>lulvs12ykwd7</td>\n",
       "      <td>8ce825a978eebf26ad2c13de6e370bb3</td>\n",
       "    </tr>\n",
       "    <tr>\n",
       "      <th>3</th>\n",
       "      <td>tdk0ut5vx9ki</td>\n",
       "      <td>6c00cb129070696ef109f6264da00318</td>\n",
       "    </tr>\n",
       "    <tr>\n",
       "      <th>4</th>\n",
       "      <td>rfmxwk4iedfc</td>\n",
       "      <td>dabf354c29a6ebba31f54b9ed042241d</td>\n",
       "    </tr>\n",
       "  </tbody>\n",
       "</table>\n",
       "</div>"
      ],
      "text/plain": [
       "    location_id                       assignee_id\n",
       "0  wy09e6twn0s1  eaa92f175be7bfb71011f17eafb1e71f\n",
       "1  406gqa22ukdm  e572ad43a89039b0d72acc4ce970a33f\n",
       "2  lulvs12ykwd7  8ce825a978eebf26ad2c13de6e370bb3\n",
       "3  tdk0ut5vx9ki  6c00cb129070696ef109f6264da00318\n",
       "4  rfmxwk4iedfc  dabf354c29a6ebba31f54b9ed042241d"
      ]
     },
     "execution_count": 28,
     "metadata": {},
     "output_type": "execute_result"
    }
   ],
   "source": [
    "dfLocation_assignee = read(location_assignee)\n",
    "dfLocation_assignee.head()"
   ]
  },
  {
   "cell_type": "code",
   "execution_count": 29,
   "metadata": {},
   "outputs": [],
   "source": [
    "# push the dataframe to the database\n",
    "dfLocation_assignee.to_sql(\"location_assignee\", if_exists = \"replace\", con = engine)\n",
    "\n",
    "# not sure if we need this if we have above:\n",
    "# for row in dfLocation_assignee:\n",
    "#     sqlquery=\"INSERT INTO location_assignee VALUES ('%s','%s')\" %(row['location_id'],row['assignee_id'])\n",
    "    "
   ]
  },
  {
   "cell_type": "markdown",
   "metadata": {},
   "source": [
    "## us_term_of_grant\n",
    "[resources](#Resources)\n",
    " | [functions](#Functions)\n",
    " | [acquisitions](#acquisitions)\n",
    " | [application](#application)\n",
    " | [assignee](#assignee) \n",
    " | [cpc_current](#cpc_current)\n",
    " | [group](#group)\n",
    " | [subgroup](#subgroup)\n",
    " | [subsection](#subsection)\n",
    " | [location](#location)\n",
    " | [location_assignee](#location_assignee)\n",
    " | [us_term_of_grant](#us_term_of_grant)"
   ]
  },
  {
   "cell_type": "code",
   "execution_count": 30,
   "metadata": {},
   "outputs": [
    {
     "data": {
      "text/html": [
       "<div>\n",
       "<style scoped>\n",
       "    .dataframe tbody tr th:only-of-type {\n",
       "        vertical-align: middle;\n",
       "    }\n",
       "\n",
       "    .dataframe tbody tr th {\n",
       "        vertical-align: top;\n",
       "    }\n",
       "\n",
       "    .dataframe thead th {\n",
       "        text-align: right;\n",
       "    }\n",
       "</style>\n",
       "<table border=\"1\" class=\"dataframe\">\n",
       "  <thead>\n",
       "    <tr style=\"text-align: right;\">\n",
       "      <th></th>\n",
       "      <th>patent_id</th>\n",
       "      <th>disclaimer_date</th>\n",
       "    </tr>\n",
       "  </thead>\n",
       "  <tbody>\n",
       "    <tr>\n",
       "      <th>0</th>\n",
       "      <td>D657425</td>\n",
       "      <td>0000-00-00</td>\n",
       "    </tr>\n",
       "    <tr>\n",
       "      <th>1</th>\n",
       "      <td>D699845</td>\n",
       "      <td>0000-00-00</td>\n",
       "    </tr>\n",
       "    <tr>\n",
       "      <th>2</th>\n",
       "      <td>D525308</td>\n",
       "      <td>0000-00-00</td>\n",
       "    </tr>\n",
       "    <tr>\n",
       "      <th>3</th>\n",
       "      <td>9193114</td>\n",
       "      <td>0000-00-00</td>\n",
       "    </tr>\n",
       "    <tr>\n",
       "      <th>4</th>\n",
       "      <td>D532925</td>\n",
       "      <td>0000-00-00</td>\n",
       "    </tr>\n",
       "  </tbody>\n",
       "</table>\n",
       "</div>"
      ],
      "text/plain": [
       "  patent_id disclaimer_date\n",
       "0   D657425      0000-00-00\n",
       "1   D699845      0000-00-00\n",
       "2   D525308      0000-00-00\n",
       "3   9193114      0000-00-00\n",
       "4   D532925      0000-00-00"
      ]
     },
     "execution_count": 30,
     "metadata": {},
     "output_type": "execute_result"
    }
   ],
   "source": [
    "dfGrant = read(us_term_of_grant)\n",
    "dfGrant.head()"
   ]
  },
  {
   "cell_type": "code",
   "execution_count": 31,
   "metadata": {},
   "outputs": [],
   "source": [
    "# push the dataframe to the database\n",
    "dfGrant.to_sql(\"us_term_of_grant\", if_exists = \"replace\", con = engine)\n",
    "\n",
    "# not sure if we need this if we have above:\n",
    "# for row in dfGrant:\n",
    "#     sqlquery=\"INSERT INTO us_term_of_grant VALUES ('%s','%s')\" %(row['patent_id'],row['disclaimer_date'])\n",
    "    "
   ]
  },
  {
   "cell_type": "code",
   "execution_count": null,
   "metadata": {},
   "outputs": [],
   "source": []
  },
  {
   "cell_type": "code",
   "execution_count": null,
   "metadata": {},
   "outputs": [],
   "source": []
  }
 ],
 "metadata": {
  "kernelspec": {
   "display_name": "Python 3",
   "language": "python",
   "name": "python3"
  },
  "language_info": {
   "codemirror_mode": {
    "name": "ipython",
    "version": 3
   },
   "file_extension": ".py",
   "mimetype": "text/x-python",
   "name": "python",
   "nbconvert_exporter": "python",
   "pygments_lexer": "ipython3",
   "version": "3.6.5"
  }
 },
 "nbformat": 4,
 "nbformat_minor": 2
}
