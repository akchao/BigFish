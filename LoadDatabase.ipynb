{
 "cells": [
  {
   "cell_type": "markdown",
   "metadata": {},
   "source": [
    "# Loading Database\n",
    "This notebook will load data into a database stored locally using SQLite (https://docs.python.org/2/library/sqlite3.html)."
   ]
  },
  {
   "cell_type": "markdown",
   "metadata": {},
   "source": [
    "Navigate to:  [acquisitions](#acquisitions)\n",
    " | [application](#application)\n",
    " | [assignee](#assignee) \n",
    " | [cpc_current](#cpc_current)\n",
    " | [group](#group)\n",
    " | [subgroup](#subgroup)\n",
    " | [subsection](#subsection)\n",
    " | [patent](#patent)\n",
    " | [location](#location)\n",
    " | [location_assignee](#location_assignee)\n",
    " | [us_term_of_grant](#us_term_of_grant)"
   ]
  },
  {
   "cell_type": "markdown",
   "metadata": {},
   "source": [
    "## Resources"
   ]
  },
  {
   "cell_type": "code",
   "execution_count": 2,
   "metadata": {},
   "outputs": [],
   "source": [
    "import pandas as pd"
   ]
  },
  {
   "cell_type": "code",
   "execution_count": 3,
   "metadata": {},
   "outputs": [],
   "source": [
    "# initialize SQLite3 database (stored locally)\n",
    "\n",
    "import sqlite3                 \n",
    "engine = sqlite3.connect(\"bigfish.db\")      "
   ]
  },
  {
   "cell_type": "code",
   "execution_count": 4,
   "metadata": {},
   "outputs": [],
   "source": [
    "acquisitions = \"acquisitions_clean.tsv\"\n",
    "assignee = \"trimAssignee_clean.tsv\"\n",
    "cpc_current = \"trimCPC_current_clean.tsv\"\n",
    "group = \"group_clean.tsv\"\n",
    "subgroup = \"subgroup_clean.tsv\"\n",
    "subsection = \"subsection_clean.tsv\"\n",
    "patent = \"trimPatent_clean.tsv\"\n",
    "location = \"trimLocation_clean.tsv\"\n",
    "location_assignee = \"trimLocation_assignee_clean.tsv\"\n",
    "us_term_of_grant = \"trimUS_term_of_grant_clean.tsv\"\n",
    "\n",
    "dataFiles = [acquisitions, assignee, cpc_current, group, subgroup, subsection, \n",
    "         patent, location, location_assignee, us_term_of_grant]"
   ]
  },
  {
   "cell_type": "markdown",
   "metadata": {},
   "source": [
    "## Functions"
   ]
  },
  {
   "cell_type": "code",
   "execution_count": 5,
   "metadata": {},
   "outputs": [],
   "source": [
    "def read(url):\n",
    "    if (url[-3]==\"c\"):\n",
    "        data = pd.read_csv(url, header=0, error_bad_lines=False)\n",
    "    else:\n",
    "        data = pd.read_csv(url, sep=\"\\t\", header=0, error_bad_lines=False)\n",
    "    df = pd.DataFrame(data)\n",
    "    return df"
   ]
  },
  {
   "cell_type": "code",
   "execution_count": 8,
   "metadata": {},
   "outputs": [
    {
     "name": "stderr",
     "output_type": "stream",
     "text": [
      "/anaconda3/lib/python3.6/site-packages/IPython/core/interactiveshell.py:2963: DtypeWarning: Columns (4) have mixed types. Specify dtype option on import or set low_memory=False.\n",
      "  exec(code_obj, self.user_global_ns, self.user_ns)\n"
     ]
    }
   ],
   "source": [
    "def loadAllSQLite():\n",
    "    dfs = []\n",
    "    \n",
    "    tables = [\"acquisitions\", \"assignee\", \"cpc_current\", \"group\", \"subgroup\", \"subsection\", \n",
    "              \"patent\", \"location\", \"location_assignee\", \"us_term_of_grant\"]\n",
    "    \n",
    "    for i in range(len(tables)):\n",
    "        dfs.append(read(dataFiles[i]))\n",
    "        dfs[i].to_sql(tables[i], index=False, if_exists = \"replace\", con = engine)\n",
    "    \n",
    "loadAllSQLite()"
   ]
  },
  {
   "cell_type": "markdown",
   "metadata": {},
   "source": [
    "***\n",
    "# Tables"
   ]
  },
  {
   "cell_type": "markdown",
   "metadata": {},
   "source": [
    "## acquisitions\n",
    "[resources](#Resources)\n",
    " | [functions](#Functions)\n",
    " | [acquisitions](#acquisitions)\n",
    " | [application](#application)\n",
    " | [assignee](#assignee) \n",
    " | [cpc_current](#cpc_current)\n",
    " | [group](#group)\n",
    " | [subgroup](#subgroup)\n",
    " | [subsection](#subsection)\n",
    " | [patent](#patent)\n",
    " | [location](#location)\n",
    " | [location_assignee](#location_assignee)\n",
    " | [us_term_of_grant](#us_term_of_grant)"
   ]
  },
  {
   "cell_type": "code",
   "execution_count": 14,
   "metadata": {},
   "outputs": [
    {
     "data": {
      "text/html": [
       "<div>\n",
       "<style scoped>\n",
       "    .dataframe tbody tr th:only-of-type {\n",
       "        vertical-align: middle;\n",
       "    }\n",
       "\n",
       "    .dataframe tbody tr th {\n",
       "        vertical-align: top;\n",
       "    }\n",
       "\n",
       "    .dataframe thead th {\n",
       "        text-align: right;\n",
       "    }\n",
       "</style>\n",
       "<table border=\"1\" class=\"dataframe\">\n",
       "  <thead>\n",
       "    <tr style=\"text-align: right;\">\n",
       "      <th></th>\n",
       "      <th>AcquisitionYear</th>\n",
       "      <th>ChildCompany</th>\n",
       "      <th>ParentCompany</th>\n",
       "    </tr>\n",
       "  </thead>\n",
       "  <tbody>\n",
       "    <tr>\n",
       "      <th>0</th>\n",
       "      <td>2015</td>\n",
       "      <td>bebop</td>\n",
       "      <td>Google</td>\n",
       "    </tr>\n",
       "    <tr>\n",
       "      <th>1</th>\n",
       "      <td>2015</td>\n",
       "      <td>Fly Labs</td>\n",
       "      <td>Google</td>\n",
       "    </tr>\n",
       "    <tr>\n",
       "      <th>2</th>\n",
       "      <td>2015</td>\n",
       "      <td>Clearleap</td>\n",
       "      <td>IBM</td>\n",
       "    </tr>\n",
       "    <tr>\n",
       "      <th>3</th>\n",
       "      <td>2015</td>\n",
       "      <td>Metanautix</td>\n",
       "      <td>Microsoft</td>\n",
       "    </tr>\n",
       "    <tr>\n",
       "      <th>4</th>\n",
       "      <td>2015</td>\n",
       "      <td>Talko, Inc.</td>\n",
       "      <td>Microsoft</td>\n",
       "    </tr>\n",
       "  </tbody>\n",
       "</table>\n",
       "</div>"
      ],
      "text/plain": [
       "   AcquisitionYear ChildCompany ParentCompany\n",
       "0             2015        bebop        Google\n",
       "1             2015     Fly Labs        Google\n",
       "2             2015    Clearleap           IBM\n",
       "3             2015   Metanautix     Microsoft\n",
       "4             2015  Talko, Inc.     Microsoft"
      ]
     },
     "execution_count": 14,
     "metadata": {},
     "output_type": "execute_result"
    }
   ],
   "source": [
    "dfAcquisitions = read(acquisitions)\n",
    "dfAcquisitions.head()"
   ]
  },
  {
   "cell_type": "code",
   "execution_count": 15,
   "metadata": {},
   "outputs": [],
   "source": [
    "dfAcquisitions.to_sql(\"acquisitions\", index=False, if_exists = \"replace\", con = engine)"
   ]
  },
  {
   "cell_type": "markdown",
   "metadata": {},
   "source": [
    "## ~~application~~\n",
    "[resources](#Resources)\n",
    " | [functions](#Functions)\n",
    " | [acquisitions](#acquisitions)\n",
    " | [application](#application)\n",
    " | [assignee](#assignee) \n",
    " | [cpc_current](#cpc_current)\n",
    " | [group](#group)\n",
    " | [subgroup](#subgroup)\n",
    " | [subsection](#subsection)\n",
    " | [patent](#patent)\n",
    " | [location](#location)\n",
    " | [location_assignee](#location_assignee)\n",
    " | [us_term_of_grant](#us_term_of_grant)"
   ]
  },
  {
   "cell_type": "code",
   "execution_count": 16,
   "metadata": {},
   "outputs": [
    {
     "data": {
      "text/html": [
       "<div>\n",
       "<style scoped>\n",
       "    .dataframe tbody tr th:only-of-type {\n",
       "        vertical-align: middle;\n",
       "    }\n",
       "\n",
       "    .dataframe tbody tr th {\n",
       "        vertical-align: top;\n",
       "    }\n",
       "\n",
       "    .dataframe thead th {\n",
       "        text-align: right;\n",
       "    }\n",
       "</style>\n",
       "<table border=\"1\" class=\"dataframe\">\n",
       "  <thead>\n",
       "    <tr style=\"text-align: right;\">\n",
       "      <th></th>\n",
       "      <th>id</th>\n",
       "      <th>patent_id</th>\n",
       "      <th>country</th>\n",
       "      <th>date</th>\n",
       "    </tr>\n",
       "  </thead>\n",
       "  <tbody>\n",
       "    <tr>\n",
       "      <th>0</th>\n",
       "      <td>02/002761</td>\n",
       "      <td>D345393</td>\n",
       "      <td>US</td>\n",
       "      <td>1992-12-21</td>\n",
       "    </tr>\n",
       "    <tr>\n",
       "      <th>1</th>\n",
       "      <td>02/007691</td>\n",
       "      <td>5164715</td>\n",
       "      <td>US</td>\n",
       "      <td>1990-04-10</td>\n",
       "    </tr>\n",
       "    <tr>\n",
       "      <th>2</th>\n",
       "      <td>02/010248</td>\n",
       "      <td>5177974</td>\n",
       "      <td>US</td>\n",
       "      <td>1988-06-23</td>\n",
       "    </tr>\n",
       "    <tr>\n",
       "      <th>3</th>\n",
       "      <td>02/020141</td>\n",
       "      <td>5379515</td>\n",
       "      <td>US</td>\n",
       "      <td>1994-02-16</td>\n",
       "    </tr>\n",
       "    <tr>\n",
       "      <th>4</th>\n",
       "      <td>02/027172</td>\n",
       "      <td>5264790</td>\n",
       "      <td>US</td>\n",
       "      <td>1991-07-01</td>\n",
       "    </tr>\n",
       "  </tbody>\n",
       "</table>\n",
       "</div>"
      ],
      "text/plain": [
       "          id patent_id country        date\n",
       "0  02/002761   D345393      US  1992-12-21\n",
       "1  02/007691   5164715      US  1990-04-10\n",
       "2  02/010248   5177974      US  1988-06-23\n",
       "3  02/020141   5379515      US  1994-02-16\n",
       "4  02/027172   5264790      US  1991-07-01"
      ]
     },
     "execution_count": 16,
     "metadata": {},
     "output_type": "execute_result"
    }
   ],
   "source": [
    "dfApplication = read(application)\n",
    "dfApplication.head()"
   ]
  },
  {
   "cell_type": "code",
   "execution_count": 17,
   "metadata": {},
   "outputs": [],
   "source": [
    "# dfApplication.to_sql(\"application\", index=False, if_exists = \"replace\", con = engine)"
   ]
  },
  {
   "cell_type": "markdown",
   "metadata": {},
   "source": [
    "## assignee\n",
    "[resources](#Resources)\n",
    " | [functions](#Functions)\n",
    " | [acquisitions](#acquisitions)\n",
    " | [application](#application)\n",
    " | [assignee](#assignee) \n",
    " | [cpc_current](#cpc_current)\n",
    " | [group](#group)\n",
    " | [subgroup](#subgroup)\n",
    " | [subsection](#subsection)\n",
    " | [patent](#patent)\n",
    " | [location](#location)\n",
    " | [location_assignee](#location_assignee)\n",
    " | [us_term_of_grant](#us_term_of_grant)"
   ]
  },
  {
   "cell_type": "code",
   "execution_count": 10,
   "metadata": {
    "scrolled": false
   },
   "outputs": [
    {
     "data": {
      "text/html": [
       "<div>\n",
       "<style scoped>\n",
       "    .dataframe tbody tr th:only-of-type {\n",
       "        vertical-align: middle;\n",
       "    }\n",
       "\n",
       "    .dataframe tbody tr th {\n",
       "        vertical-align: top;\n",
       "    }\n",
       "\n",
       "    .dataframe thead th {\n",
       "        text-align: right;\n",
       "    }\n",
       "</style>\n",
       "<table border=\"1\" class=\"dataframe\">\n",
       "  <thead>\n",
       "    <tr style=\"text-align: right;\">\n",
       "      <th></th>\n",
       "      <th>patent_id</th>\n",
       "      <th>assignee_id</th>\n",
       "      <th>organization</th>\n",
       "    </tr>\n",
       "  </thead>\n",
       "  <tbody>\n",
       "    <tr>\n",
       "      <th>0</th>\n",
       "      <td>6000832</td>\n",
       "      <td>237c2b0099548ddbfa5a37f07e0687ab</td>\n",
       "      <td>Microsoft Corporation</td>\n",
       "    </tr>\n",
       "    <tr>\n",
       "      <th>1</th>\n",
       "      <td>7458030</td>\n",
       "      <td>237c2b0099548ddbfa5a37f07e0687ab</td>\n",
       "      <td>Microsoft Corporation</td>\n",
       "    </tr>\n",
       "    <tr>\n",
       "      <th>2</th>\n",
       "      <td>D766984</td>\n",
       "      <td>237c2b0099548ddbfa5a37f07e0687ab</td>\n",
       "      <td>Microsoft Corporation</td>\n",
       "    </tr>\n",
       "    <tr>\n",
       "      <th>3</th>\n",
       "      <td>D702184</td>\n",
       "      <td>237c2b0099548ddbfa5a37f07e0687ab</td>\n",
       "      <td>Microsoft Corporation</td>\n",
       "    </tr>\n",
       "    <tr>\n",
       "      <th>4</th>\n",
       "      <td>8244819</td>\n",
       "      <td>237c2b0099548ddbfa5a37f07e0687ab</td>\n",
       "      <td>Microsoft Corporation</td>\n",
       "    </tr>\n",
       "  </tbody>\n",
       "</table>\n",
       "</div>"
      ],
      "text/plain": [
       "  patent_id                       assignee_id           organization\n",
       "0   6000832  237c2b0099548ddbfa5a37f07e0687ab  Microsoft Corporation\n",
       "1   7458030  237c2b0099548ddbfa5a37f07e0687ab  Microsoft Corporation\n",
       "2   D766984  237c2b0099548ddbfa5a37f07e0687ab  Microsoft Corporation\n",
       "3   D702184  237c2b0099548ddbfa5a37f07e0687ab  Microsoft Corporation\n",
       "4   8244819  237c2b0099548ddbfa5a37f07e0687ab  Microsoft Corporation"
      ]
     },
     "execution_count": 10,
     "metadata": {},
     "output_type": "execute_result"
    }
   ],
   "source": [
    "dfAssignee = read(assignee)\n",
    "dfAssignee.head()"
   ]
  },
  {
   "cell_type": "code",
   "execution_count": 11,
   "metadata": {},
   "outputs": [],
   "source": [
    "dfAssignee.to_sql(\"assignee\", index=False, if_exists = \"replace\", con = engine)"
   ]
  },
  {
   "cell_type": "markdown",
   "metadata": {},
   "source": [
    "## cpc_current\n",
    "[resources](#Resources)\n",
    " | [functions](#Functions)\n",
    " | [acquisitions](#acquisitions)\n",
    " | [application](#application)\n",
    " | [assignee](#assignee) \n",
    " | [cpc_current](#cpc_current)\n",
    " | [group](#group)\n",
    " | [subgroup](#subgroup)\n",
    " | [subsection](#subsection)\n",
    " | [patent](#patent)\n",
    " | [location](#location)\n",
    " | [location_assignee](#location_assignee)\n",
    " | [us_term_of_grant](#us_term_of_grant)"
   ]
  },
  {
   "cell_type": "code",
   "execution_count": 18,
   "metadata": {},
   "outputs": [
    {
     "data": {
      "text/html": [
       "<div>\n",
       "<style scoped>\n",
       "    .dataframe tbody tr th:only-of-type {\n",
       "        vertical-align: middle;\n",
       "    }\n",
       "\n",
       "    .dataframe tbody tr th {\n",
       "        vertical-align: top;\n",
       "    }\n",
       "\n",
       "    .dataframe thead th {\n",
       "        text-align: right;\n",
       "    }\n",
       "</style>\n",
       "<table border=\"1\" class=\"dataframe\">\n",
       "  <thead>\n",
       "    <tr style=\"text-align: right;\">\n",
       "      <th></th>\n",
       "      <th>patent_id</th>\n",
       "      <th>section_id</th>\n",
       "      <th>subsection_id</th>\n",
       "      <th>group_id</th>\n",
       "      <th>subgroup_id</th>\n",
       "    </tr>\n",
       "  </thead>\n",
       "  <tbody>\n",
       "    <tr>\n",
       "      <th>0</th>\n",
       "      <td>3930729</td>\n",
       "      <td>G</td>\n",
       "      <td>G01</td>\n",
       "      <td>G01B</td>\n",
       "      <td>G01B9/02097</td>\n",
       "    </tr>\n",
       "    <tr>\n",
       "      <th>1</th>\n",
       "      <td>3930729</td>\n",
       "      <td>G</td>\n",
       "      <td>G01</td>\n",
       "      <td>G01B</td>\n",
       "      <td>G01B2290/25</td>\n",
       "    </tr>\n",
       "    <tr>\n",
       "      <th>2</th>\n",
       "      <td>3930857</td>\n",
       "      <td>G</td>\n",
       "      <td>G03</td>\n",
       "      <td>G03F</td>\n",
       "      <td>G03F1/54</td>\n",
       "    </tr>\n",
       "    <tr>\n",
       "      <th>3</th>\n",
       "      <td>3930857</td>\n",
       "      <td>G</td>\n",
       "      <td>G03</td>\n",
       "      <td>G03F</td>\n",
       "      <td>G03F1/50</td>\n",
       "    </tr>\n",
       "    <tr>\n",
       "      <th>4</th>\n",
       "      <td>3930857</td>\n",
       "      <td>G</td>\n",
       "      <td>G03</td>\n",
       "      <td>G03F</td>\n",
       "      <td>G03F7/022</td>\n",
       "    </tr>\n",
       "  </tbody>\n",
       "</table>\n",
       "</div>"
      ],
      "text/plain": [
       "   patent_id section_id subsection_id group_id  subgroup_id\n",
       "0    3930729          G           G01     G01B  G01B9/02097\n",
       "1    3930729          G           G01     G01B  G01B2290/25\n",
       "2    3930857          G           G03     G03F     G03F1/54\n",
       "3    3930857          G           G03     G03F     G03F1/50\n",
       "4    3930857          G           G03     G03F    G03F7/022"
      ]
     },
     "execution_count": 18,
     "metadata": {},
     "output_type": "execute_result"
    }
   ],
   "source": [
    "dfCPC_current = read(cpc_current)\n",
    "dfCPC_current.head()"
   ]
  },
  {
   "cell_type": "code",
   "execution_count": 19,
   "metadata": {},
   "outputs": [],
   "source": [
    "dfCPC_current.to_sql(\"cpc_current\", index=False, if_exists = \"replace\", con = engine)"
   ]
  },
  {
   "cell_type": "markdown",
   "metadata": {},
   "source": [
    "## group\n",
    "[resources](#Resources)\n",
    " | [functions](#Functions)\n",
    " | [acquisitions](#acquisitions)\n",
    " | [application](#application)\n",
    " | [assignee](#assignee) \n",
    " | [cpc_current](#cpc_current)\n",
    " | [group](#group)\n",
    " | [subgroup](#subgroup)\n",
    " | [subsection](#subsection)\n",
    " | [patent](#patent)\n",
    " | [location](#location)\n",
    " | [location_assignee](#location_assignee)\n",
    " | [us_term_of_grant](#us_term_of_grant)"
   ]
  },
  {
   "cell_type": "code",
   "execution_count": 20,
   "metadata": {},
   "outputs": [
    {
     "data": {
      "text/html": [
       "<div>\n",
       "<style scoped>\n",
       "    .dataframe tbody tr th:only-of-type {\n",
       "        vertical-align: middle;\n",
       "    }\n",
       "\n",
       "    .dataframe tbody tr th {\n",
       "        vertical-align: top;\n",
       "    }\n",
       "\n",
       "    .dataframe thead th {\n",
       "        text-align: right;\n",
       "    }\n",
       "</style>\n",
       "<table border=\"1\" class=\"dataframe\">\n",
       "  <thead>\n",
       "    <tr style=\"text-align: right;\">\n",
       "      <th></th>\n",
       "      <th>id</th>\n",
       "      <th>title</th>\n",
       "    </tr>\n",
       "  </thead>\n",
       "  <tbody>\n",
       "    <tr>\n",
       "      <th>0</th>\n",
       "      <td>A01B</td>\n",
       "      <td>SOIL WORKING IN AGRICULTURE OR FORESTRY; PARTS...</td>\n",
       "    </tr>\n",
       "    <tr>\n",
       "      <th>1</th>\n",
       "      <td>A01C</td>\n",
       "      <td>PLANTING; SOWING; FERTILISING</td>\n",
       "    </tr>\n",
       "    <tr>\n",
       "      <th>2</th>\n",
       "      <td>A01D</td>\n",
       "      <td>HARVESTING; MOWING</td>\n",
       "    </tr>\n",
       "    <tr>\n",
       "      <th>3</th>\n",
       "      <td>A01F</td>\n",
       "      <td>PROCESSING OF HARVESTED PRODUCE; HAY OR STRAW ...</td>\n",
       "    </tr>\n",
       "    <tr>\n",
       "      <th>4</th>\n",
       "      <td>A01G</td>\n",
       "      <td>HORTICULTURE; CULTIVATION OF VEGETABLES, FLOWE...</td>\n",
       "    </tr>\n",
       "  </tbody>\n",
       "</table>\n",
       "</div>"
      ],
      "text/plain": [
       "     id                                              title\n",
       "0  A01B  SOIL WORKING IN AGRICULTURE OR FORESTRY; PARTS...\n",
       "1  A01C                     PLANTING; SOWING; FERTILISING \n",
       "2  A01D                                HARVESTING; MOWING \n",
       "3  A01F  PROCESSING OF HARVESTED PRODUCE; HAY OR STRAW ...\n",
       "4  A01G  HORTICULTURE; CULTIVATION OF VEGETABLES, FLOWE..."
      ]
     },
     "execution_count": 20,
     "metadata": {},
     "output_type": "execute_result"
    }
   ],
   "source": [
    "dfGroup = read(group)\n",
    "dfGroup.head()"
   ]
  },
  {
   "cell_type": "code",
   "execution_count": 21,
   "metadata": {},
   "outputs": [],
   "source": [
    "dfGroup.to_sql(\"group\", index=False, if_exists = \"replace\", con = engine)"
   ]
  },
  {
   "cell_type": "markdown",
   "metadata": {},
   "source": [
    "## subgroup\n",
    "[resources](#Resources)\n",
    " | [functions](#Functions)\n",
    " | [acquisitions](#acquisitions)\n",
    " | [application](#application)\n",
    " | [assignee](#assignee) \n",
    " | [cpc_current](#cpc_current)\n",
    " | [group](#group)\n",
    " | [subgroup](#subgroup)\n",
    " | [subsection](#subsection)\n",
    " | [patent](#patent)\n",
    " | [location](#location)\n",
    " | [location_assignee](#location_assignee)\n",
    " | [us_term_of_grant](#us_term_of_grant)"
   ]
  },
  {
   "cell_type": "code",
   "execution_count": 22,
   "metadata": {},
   "outputs": [
    {
     "data": {
      "text/html": [
       "<div>\n",
       "<style scoped>\n",
       "    .dataframe tbody tr th:only-of-type {\n",
       "        vertical-align: middle;\n",
       "    }\n",
       "\n",
       "    .dataframe tbody tr th {\n",
       "        vertical-align: top;\n",
       "    }\n",
       "\n",
       "    .dataframe thead th {\n",
       "        text-align: right;\n",
       "    }\n",
       "</style>\n",
       "<table border=\"1\" class=\"dataframe\">\n",
       "  <thead>\n",
       "    <tr style=\"text-align: right;\">\n",
       "      <th></th>\n",
       "      <th>id</th>\n",
       "      <th>title</th>\n",
       "    </tr>\n",
       "  </thead>\n",
       "  <tbody>\n",
       "    <tr>\n",
       "      <th>0</th>\n",
       "      <td>A01B1/00</td>\n",
       "      <td>Hand tools</td>\n",
       "    </tr>\n",
       "    <tr>\n",
       "      <th>1</th>\n",
       "      <td>A01B1/02</td>\n",
       "      <td>Hand tools -Spades; Shovels</td>\n",
       "    </tr>\n",
       "    <tr>\n",
       "      <th>2</th>\n",
       "      <td>A01B1/022</td>\n",
       "      <td>Hand tools -Spades; Shovels -Collapsible; exte...</td>\n",
       "    </tr>\n",
       "    <tr>\n",
       "      <th>3</th>\n",
       "      <td>A01B1/024</td>\n",
       "      <td>Hand tools -Spades; Shovels -Foot protectors a...</td>\n",
       "    </tr>\n",
       "    <tr>\n",
       "      <th>4</th>\n",
       "      <td>A01B1/026</td>\n",
       "      <td>Hand tools -Spades; Shovels -with auxiliary ha...</td>\n",
       "    </tr>\n",
       "  </tbody>\n",
       "</table>\n",
       "</div>"
      ],
      "text/plain": [
       "          id                                              title\n",
       "0   A01B1/00                                         Hand tools\n",
       "1   A01B1/02                        Hand tools -Spades; Shovels\n",
       "2  A01B1/022  Hand tools -Spades; Shovels -Collapsible; exte...\n",
       "3  A01B1/024  Hand tools -Spades; Shovels -Foot protectors a...\n",
       "4  A01B1/026  Hand tools -Spades; Shovels -with auxiliary ha..."
      ]
     },
     "execution_count": 22,
     "metadata": {},
     "output_type": "execute_result"
    }
   ],
   "source": [
    "dfSubgroup = read(subgroup)\n",
    "dfSubgroup.head()"
   ]
  },
  {
   "cell_type": "code",
   "execution_count": 23,
   "metadata": {},
   "outputs": [],
   "source": [
    "dfSubgroup.to_sql(\"subgroup\", index=False, if_exists = \"replace\", con = engine)"
   ]
  },
  {
   "cell_type": "markdown",
   "metadata": {},
   "source": [
    "## subsection\n",
    "[resources](#Resources)\n",
    " | [functions](#Functions)\n",
    " | [acquisitions](#acquisitions)\n",
    " | [application](#application)\n",
    " | [assignee](#assignee) \n",
    " | [cpc_current](#cpc_current)\n",
    " | [group](#group)\n",
    " | [subgroup](#subgroup)\n",
    " | [subsection](#subsection)\n",
    " | [patent](#patent)\n",
    " | [location](#location)\n",
    " | [location_assignee](#location_assignee)\n",
    " | [us_term_of_grant](#us_term_of_grant)"
   ]
  },
  {
   "cell_type": "code",
   "execution_count": 24,
   "metadata": {},
   "outputs": [
    {
     "data": {
      "text/html": [
       "<div>\n",
       "<style scoped>\n",
       "    .dataframe tbody tr th:only-of-type {\n",
       "        vertical-align: middle;\n",
       "    }\n",
       "\n",
       "    .dataframe tbody tr th {\n",
       "        vertical-align: top;\n",
       "    }\n",
       "\n",
       "    .dataframe thead th {\n",
       "        text-align: right;\n",
       "    }\n",
       "</style>\n",
       "<table border=\"1\" class=\"dataframe\">\n",
       "  <thead>\n",
       "    <tr style=\"text-align: right;\">\n",
       "      <th></th>\n",
       "      <th>id</th>\n",
       "      <th>title</th>\n",
       "    </tr>\n",
       "  </thead>\n",
       "  <tbody>\n",
       "    <tr>\n",
       "      <th>0</th>\n",
       "      <td>A01</td>\n",
       "      <td>AGRICULTURE; FORESTRY; ANIMAL HUSBANDRY; HUNTI...</td>\n",
       "    </tr>\n",
       "    <tr>\n",
       "      <th>1</th>\n",
       "      <td>A21</td>\n",
       "      <td>BAKING; EDIBLE DOUGHS</td>\n",
       "    </tr>\n",
       "    <tr>\n",
       "      <th>2</th>\n",
       "      <td>A22</td>\n",
       "      <td>BUTCHERING; MEAT TREATMENT; PROCESSING POULTRY...</td>\n",
       "    </tr>\n",
       "    <tr>\n",
       "      <th>3</th>\n",
       "      <td>A23</td>\n",
       "      <td>FOODS OR FOODSTUFFS; THEIR TREATMENT, NOT COVE...</td>\n",
       "    </tr>\n",
       "    <tr>\n",
       "      <th>4</th>\n",
       "      <td>A24</td>\n",
       "      <td>TOBACCO; CIGARS; CIGARETTES; SMOKERS' REQUISITES</td>\n",
       "    </tr>\n",
       "  </tbody>\n",
       "</table>\n",
       "</div>"
      ],
      "text/plain": [
       "    id                                              title\n",
       "0  A01  AGRICULTURE; FORESTRY; ANIMAL HUSBANDRY; HUNTI...\n",
       "1  A21                              BAKING; EDIBLE DOUGHS\n",
       "2  A22  BUTCHERING; MEAT TREATMENT; PROCESSING POULTRY...\n",
       "3  A23  FOODS OR FOODSTUFFS; THEIR TREATMENT, NOT COVE...\n",
       "4  A24   TOBACCO; CIGARS; CIGARETTES; SMOKERS' REQUISITES"
      ]
     },
     "execution_count": 24,
     "metadata": {},
     "output_type": "execute_result"
    }
   ],
   "source": [
    "dfSubsection = read(subsection)\n",
    "dfSubsection.head()"
   ]
  },
  {
   "cell_type": "code",
   "execution_count": 25,
   "metadata": {},
   "outputs": [],
   "source": [
    "dfSubsection.to_sql(\"subsection\", index=False, if_exists = \"replace\", con = engine)"
   ]
  },
  {
   "cell_type": "markdown",
   "metadata": {},
   "source": [
    "## patent\n",
    "[resources](#Resources)\n",
    " | [functions](#Functions)\n",
    " | [acquisitions](#acquisitions)\n",
    " | [application](#application)\n",
    " | [assignee](#assignee) \n",
    " | [cpc_current](#cpc_current)\n",
    " | [group](#group)\n",
    " | [subgroup](#subgroup)\n",
    " | [subsection](#subsection)\n",
    " | [patent](#patent)\n",
    " | [location](#location)\n",
    " | [location_assignee](#location_assignee)\n",
    " | [us_term_of_grant](#us_term_of_grant)"
   ]
  },
  {
   "cell_type": "code",
   "execution_count": 5,
   "metadata": {},
   "outputs": [
    {
     "name": "stderr",
     "output_type": "stream",
     "text": [
      "/anaconda3/lib/python3.6/site-packages/IPython/core/interactiveshell.py:2903: DtypeWarning: Columns (0,1,6) have mixed types. Specify dtype option on import or set low_memory=False.\n",
      "  if self.run_code(code, result):\n"
     ]
    },
    {
     "data": {
      "text/html": [
       "<div>\n",
       "<style scoped>\n",
       "    .dataframe tbody tr th:only-of-type {\n",
       "        vertical-align: middle;\n",
       "    }\n",
       "\n",
       "    .dataframe tbody tr th {\n",
       "        vertical-align: top;\n",
       "    }\n",
       "\n",
       "    .dataframe thead th {\n",
       "        text-align: right;\n",
       "    }\n",
       "</style>\n",
       "<table border=\"1\" class=\"dataframe\">\n",
       "  <thead>\n",
       "    <tr style=\"text-align: right;\">\n",
       "      <th></th>\n",
       "      <th>id</th>\n",
       "      <th>number</th>\n",
       "      <th>date</th>\n",
       "      <th>abstract</th>\n",
       "      <th>title</th>\n",
       "      <th>num_claims</th>\n",
       "      <th>patent_id</th>\n",
       "    </tr>\n",
       "  </thead>\n",
       "  <tbody>\n",
       "    <tr>\n",
       "      <th>0</th>\n",
       "      <td>3930729</td>\n",
       "      <td>3930729</td>\n",
       "      <td>1976-01-06</td>\n",
       "      <td>An interferometer arrangement of either the t...</td>\n",
       "      <td>Interferometer apparatus incorporating a spher...</td>\n",
       "      <td>39.0</td>\n",
       "      <td>3930729</td>\n",
       "    </tr>\n",
       "    <tr>\n",
       "      <th>1</th>\n",
       "      <td>3930857</td>\n",
       "      <td>3930857</td>\n",
       "      <td>1976-01-06</td>\n",
       "      <td>A resist mask, whose configuration is changed...</td>\n",
       "      <td>Resist process</td>\n",
       "      <td>7.0</td>\n",
       "      <td>3930857</td>\n",
       "    </tr>\n",
       "    <tr>\n",
       "      <th>2</th>\n",
       "      <td>3930870</td>\n",
       "      <td>3930870</td>\n",
       "      <td>1976-01-06</td>\n",
       "      <td>An improved process for preparing a polishing...</td>\n",
       "      <td>Silicon polishing solution preparation</td>\n",
       "      <td>16.0</td>\n",
       "      <td>3930870</td>\n",
       "    </tr>\n",
       "    <tr>\n",
       "      <th>3</th>\n",
       "      <td>3931435</td>\n",
       "      <td>3931435</td>\n",
       "      <td>1976-01-06</td>\n",
       "      <td>Very sensitive electron beam positive resists...</td>\n",
       "      <td>Electron beam positive resists containing acet...</td>\n",
       "      <td>5.0</td>\n",
       "      <td>3931435</td>\n",
       "    </tr>\n",
       "    <tr>\n",
       "      <th>4</th>\n",
       "      <td>3931531</td>\n",
       "      <td>3931531</td>\n",
       "      <td>1976-01-06</td>\n",
       "      <td>A counter circuit counts all transitions of t...</td>\n",
       "      <td>Overlapped signal transition counter</td>\n",
       "      <td>7.0</td>\n",
       "      <td>3931531</td>\n",
       "    </tr>\n",
       "  </tbody>\n",
       "</table>\n",
       "</div>"
      ],
      "text/plain": [
       "        id   number        date  \\\n",
       "0  3930729  3930729  1976-01-06   \n",
       "1  3930857  3930857  1976-01-06   \n",
       "2  3930870  3930870  1976-01-06   \n",
       "3  3931435  3931435  1976-01-06   \n",
       "4  3931531  3931531  1976-01-06   \n",
       "\n",
       "                                            abstract  \\\n",
       "0   An interferometer arrangement of either the t...   \n",
       "1   A resist mask, whose configuration is changed...   \n",
       "2   An improved process for preparing a polishing...   \n",
       "3   Very sensitive electron beam positive resists...   \n",
       "4   A counter circuit counts all transitions of t...   \n",
       "\n",
       "                                               title  num_claims patent_id  \n",
       "0  Interferometer apparatus incorporating a spher...        39.0   3930729  \n",
       "1                                     Resist process         7.0   3930857  \n",
       "2             Silicon polishing solution preparation        16.0   3930870  \n",
       "3  Electron beam positive resists containing acet...         5.0   3931435  \n",
       "4               Overlapped signal transition counter         7.0   3931531  "
      ]
     },
     "execution_count": 5,
     "metadata": {},
     "output_type": "execute_result"
    }
   ],
   "source": [
    "dfPatent = read(patent)\n",
    "dfPatent.head()"
   ]
  },
  {
   "cell_type": "code",
   "execution_count": 24,
   "metadata": {},
   "outputs": [],
   "source": [
    "dfPatent.to_sql(\"patent\", index=False, if_exists = \"replace\", con = engine)"
   ]
  },
  {
   "cell_type": "markdown",
   "metadata": {},
   "source": [
    "## location\n",
    "[resources](#Resources)\n",
    " | [functions](#Functions)\n",
    " | [acquisitions](#acquisitions)\n",
    " | [application](#application)\n",
    " | [assignee](#assignee) \n",
    " | [cpc_current](#cpc_current)\n",
    " | [group](#group)\n",
    " | [subgroup](#subgroup)\n",
    " | [subsection](#subsection)\n",
    " | [patent](#patent)\n",
    " | [location](#location)\n",
    " | [location_assignee](#location_assignee)\n",
    " | [us_term_of_grant](#us_term_of_grant)"
   ]
  },
  {
   "cell_type": "code",
   "execution_count": 25,
   "metadata": {},
   "outputs": [
    {
     "data": {
      "text/html": [
       "<div>\n",
       "<style scoped>\n",
       "    .dataframe tbody tr th:only-of-type {\n",
       "        vertical-align: middle;\n",
       "    }\n",
       "\n",
       "    .dataframe tbody tr th {\n",
       "        vertical-align: top;\n",
       "    }\n",
       "\n",
       "    .dataframe thead th {\n",
       "        text-align: right;\n",
       "    }\n",
       "</style>\n",
       "<table border=\"1\" class=\"dataframe\">\n",
       "  <thead>\n",
       "    <tr style=\"text-align: right;\">\n",
       "      <th></th>\n",
       "      <th>id</th>\n",
       "      <th>city</th>\n",
       "      <th>latitude</th>\n",
       "      <th>longitude</th>\n",
       "    </tr>\n",
       "  </thead>\n",
       "  <tbody>\n",
       "    <tr>\n",
       "      <th>0</th>\n",
       "      <td>000yomlxfffl</td>\n",
       "      <td>Spruce Pine</td>\n",
       "      <td>35.9153</td>\n",
       "      <td>-82.0647</td>\n",
       "    </tr>\n",
       "    <tr>\n",
       "      <th>1</th>\n",
       "      <td>000zaps28vbi</td>\n",
       "      <td>Bridge City Westwego</td>\n",
       "      <td>29.9179</td>\n",
       "      <td>-90.1663</td>\n",
       "    </tr>\n",
       "    <tr>\n",
       "      <th>2</th>\n",
       "      <td>002ui5ctlmse</td>\n",
       "      <td>Dahlonega</td>\n",
       "      <td>34.5261</td>\n",
       "      <td>-83.9844</td>\n",
       "    </tr>\n",
       "    <tr>\n",
       "      <th>3</th>\n",
       "      <td>0043o8y61p3z</td>\n",
       "      <td>Rancho Bernardo</td>\n",
       "      <td>33.0186</td>\n",
       "      <td>-117.0600</td>\n",
       "    </tr>\n",
       "    <tr>\n",
       "      <th>4</th>\n",
       "      <td>00a4lw6chrti</td>\n",
       "      <td>Levering</td>\n",
       "      <td>45.6358</td>\n",
       "      <td>-84.7870</td>\n",
       "    </tr>\n",
       "  </tbody>\n",
       "</table>\n",
       "</div>"
      ],
      "text/plain": [
       "             id                  city  latitude  longitude\n",
       "0  000yomlxfffl           Spruce Pine   35.9153   -82.0647\n",
       "1  000zaps28vbi  Bridge City Westwego   29.9179   -90.1663\n",
       "2  002ui5ctlmse             Dahlonega   34.5261   -83.9844\n",
       "3  0043o8y61p3z       Rancho Bernardo   33.0186  -117.0600\n",
       "4  00a4lw6chrti              Levering   45.6358   -84.7870"
      ]
     },
     "execution_count": 25,
     "metadata": {},
     "output_type": "execute_result"
    }
   ],
   "source": [
    "dfLocation = read(location)\n",
    "dfLocation.head()"
   ]
  },
  {
   "cell_type": "code",
   "execution_count": 26,
   "metadata": {},
   "outputs": [],
   "source": [
    "dfLocation.to_sql(\"location\", index=False, if_exists = \"replace\", con = engine)"
   ]
  },
  {
   "cell_type": "markdown",
   "metadata": {},
   "source": [
    "## location_assignee\n",
    "[resources](#Resources)\n",
    " | [functions](#Functions)\n",
    " | [acquisitions](#acquisitions)\n",
    " | [application](#application)\n",
    " | [assignee](#assignee) \n",
    " | [cpc_current](#cpc_current)\n",
    " | [group](#group)\n",
    " | [subgroup](#subgroup)\n",
    " | [subsection](#subsection)\n",
    " | [patent](#patent)\n",
    " | [location](#location)\n",
    " | [location_assignee](#location_assignee)\n",
    " | [us_term_of_grant](#us_term_of_grant)"
   ]
  },
  {
   "cell_type": "code",
   "execution_count": 27,
   "metadata": {},
   "outputs": [
    {
     "data": {
      "text/html": [
       "<div>\n",
       "<style scoped>\n",
       "    .dataframe tbody tr th:only-of-type {\n",
       "        vertical-align: middle;\n",
       "    }\n",
       "\n",
       "    .dataframe tbody tr th {\n",
       "        vertical-align: top;\n",
       "    }\n",
       "\n",
       "    .dataframe thead th {\n",
       "        text-align: right;\n",
       "    }\n",
       "</style>\n",
       "<table border=\"1\" class=\"dataframe\">\n",
       "  <thead>\n",
       "    <tr style=\"text-align: right;\">\n",
       "      <th></th>\n",
       "      <th>location_id</th>\n",
       "      <th>assignee_id</th>\n",
       "    </tr>\n",
       "  </thead>\n",
       "  <tbody>\n",
       "    <tr>\n",
       "      <th>0</th>\n",
       "      <td>wy09e6twn0s1</td>\n",
       "      <td>eaa92f175be7bfb71011f17eafb1e71f</td>\n",
       "    </tr>\n",
       "    <tr>\n",
       "      <th>1</th>\n",
       "      <td>406gqa22ukdm</td>\n",
       "      <td>e572ad43a89039b0d72acc4ce970a33f</td>\n",
       "    </tr>\n",
       "    <tr>\n",
       "      <th>2</th>\n",
       "      <td>lulvs12ykwd7</td>\n",
       "      <td>8ce825a978eebf26ad2c13de6e370bb3</td>\n",
       "    </tr>\n",
       "    <tr>\n",
       "      <th>3</th>\n",
       "      <td>tdk0ut5vx9ki</td>\n",
       "      <td>6c00cb129070696ef109f6264da00318</td>\n",
       "    </tr>\n",
       "    <tr>\n",
       "      <th>4</th>\n",
       "      <td>rfmxwk4iedfc</td>\n",
       "      <td>dabf354c29a6ebba31f54b9ed042241d</td>\n",
       "    </tr>\n",
       "  </tbody>\n",
       "</table>\n",
       "</div>"
      ],
      "text/plain": [
       "    location_id                       assignee_id\n",
       "0  wy09e6twn0s1  eaa92f175be7bfb71011f17eafb1e71f\n",
       "1  406gqa22ukdm  e572ad43a89039b0d72acc4ce970a33f\n",
       "2  lulvs12ykwd7  8ce825a978eebf26ad2c13de6e370bb3\n",
       "3  tdk0ut5vx9ki  6c00cb129070696ef109f6264da00318\n",
       "4  rfmxwk4iedfc  dabf354c29a6ebba31f54b9ed042241d"
      ]
     },
     "execution_count": 27,
     "metadata": {},
     "output_type": "execute_result"
    }
   ],
   "source": [
    "dfLocation_assignee = read(location_assignee)\n",
    "dfLocation_assignee.head()"
   ]
  },
  {
   "cell_type": "code",
   "execution_count": 28,
   "metadata": {},
   "outputs": [],
   "source": [
    "dfLocation_assignee.to_sql(\"location_assignee\", index=False, if_exists = \"replace\", con = engine)"
   ]
  },
  {
   "cell_type": "markdown",
   "metadata": {},
   "source": [
    "## us_term_of_grant\n",
    "[resources](#Resources)\n",
    " | [functions](#Functions)\n",
    " | [acquisitions](#acquisitions)\n",
    " | [application](#application)\n",
    " | [assignee](#assignee) \n",
    " | [cpc_current](#cpc_current)\n",
    " | [group](#group)\n",
    " | [subgroup](#subgroup)\n",
    " | [subsection](#subsection)\n",
    " | [patent](#patent)\n",
    " | [location](#location)\n",
    " | [location_assignee](#location_assignee)\n",
    " | [us_term_of_grant](#us_term_of_grant)"
   ]
  },
  {
   "cell_type": "code",
   "execution_count": 29,
   "metadata": {},
   "outputs": [
    {
     "data": {
      "text/html": [
       "<div>\n",
       "<style scoped>\n",
       "    .dataframe tbody tr th:only-of-type {\n",
       "        vertical-align: middle;\n",
       "    }\n",
       "\n",
       "    .dataframe tbody tr th {\n",
       "        vertical-align: top;\n",
       "    }\n",
       "\n",
       "    .dataframe thead th {\n",
       "        text-align: right;\n",
       "    }\n",
       "</style>\n",
       "<table border=\"1\" class=\"dataframe\">\n",
       "  <thead>\n",
       "    <tr style=\"text-align: right;\">\n",
       "      <th></th>\n",
       "      <th>patent_id</th>\n",
       "      <th>disclaimer_date</th>\n",
       "    </tr>\n",
       "  </thead>\n",
       "  <tbody>\n",
       "    <tr>\n",
       "      <th>0</th>\n",
       "      <td>D657425</td>\n",
       "      <td>0000-00-00</td>\n",
       "    </tr>\n",
       "    <tr>\n",
       "      <th>1</th>\n",
       "      <td>D699845</td>\n",
       "      <td>0000-00-00</td>\n",
       "    </tr>\n",
       "    <tr>\n",
       "      <th>2</th>\n",
       "      <td>D525308</td>\n",
       "      <td>0000-00-00</td>\n",
       "    </tr>\n",
       "    <tr>\n",
       "      <th>3</th>\n",
       "      <td>9193114</td>\n",
       "      <td>0000-00-00</td>\n",
       "    </tr>\n",
       "    <tr>\n",
       "      <th>4</th>\n",
       "      <td>D532925</td>\n",
       "      <td>0000-00-00</td>\n",
       "    </tr>\n",
       "  </tbody>\n",
       "</table>\n",
       "</div>"
      ],
      "text/plain": [
       "  patent_id disclaimer_date\n",
       "0   D657425      0000-00-00\n",
       "1   D699845      0000-00-00\n",
       "2   D525308      0000-00-00\n",
       "3   9193114      0000-00-00\n",
       "4   D532925      0000-00-00"
      ]
     },
     "execution_count": 29,
     "metadata": {},
     "output_type": "execute_result"
    }
   ],
   "source": [
    "dfGrant = read(us_term_of_grant)\n",
    "dfGrant.head()"
   ]
  },
  {
   "cell_type": "code",
   "execution_count": 30,
   "metadata": {},
   "outputs": [],
   "source": [
    "dfGrant.to_sql(\"us_term_of_grant\", index=False, if_exists = \"replace\", con = engine)"
   ]
  }
 ],
 "metadata": {
  "kernelspec": {
   "display_name": "Python 3",
   "language": "python",
   "name": "python3"
  },
  "language_info": {
   "codemirror_mode": {
    "name": "ipython",
    "version": 3
   },
   "file_extension": ".py",
   "mimetype": "text/x-python",
   "name": "python",
   "nbconvert_exporter": "python",
   "pygments_lexer": "ipython3",
   "version": "3.6.5"
  }
 },
 "nbformat": 4,
 "nbformat_minor": 2
}
